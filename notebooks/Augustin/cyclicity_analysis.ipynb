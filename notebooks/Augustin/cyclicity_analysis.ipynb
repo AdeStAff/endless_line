{
 "cells": [
  {
   "cell_type": "code",
   "execution_count": 1,
   "metadata": {},
   "outputs": [],
   "source": [
    "import pandas as pd \n",
    "import numpy as np\n",
    "import matplotlib.pyplot as plt\n",
    "import seaborn as sns\n",
    "import matplotlib.dates as mdates\n",
    "data_path = \"../../data/\""
   ]
  },
  {
   "cell_type": "markdown",
   "metadata": {},
   "source": [
    "# Weekly ciclicity"
   ]
  },
  {
   "cell_type": "markdown",
   "metadata": {},
   "source": [
    "## Attendance"
   ]
  },
  {
   "cell_type": "code",
   "execution_count": 15,
   "metadata": {},
   "outputs": [
    {
     "data": {
      "text/html": [
       "<div>\n",
       "<style scoped>\n",
       "    .dataframe tbody tr th:only-of-type {\n",
       "        vertical-align: middle;\n",
       "    }\n",
       "\n",
       "    .dataframe tbody tr th {\n",
       "        vertical-align: top;\n",
       "    }\n",
       "\n",
       "    .dataframe thead th {\n",
       "        text-align: right;\n",
       "    }\n",
       "</style>\n",
       "<table border=\"1\" class=\"dataframe\">\n",
       "  <thead>\n",
       "    <tr style=\"text-align: right;\">\n",
       "      <th></th>\n",
       "      <th>USAGE_DATE</th>\n",
       "      <th>attendance</th>\n",
       "      <th>day_of_week</th>\n",
       "    </tr>\n",
       "  </thead>\n",
       "  <tbody>\n",
       "    <tr>\n",
       "      <th>0</th>\n",
       "      <td>2018-06-01</td>\n",
       "      <td>46804</td>\n",
       "      <td>4</td>\n",
       "    </tr>\n",
       "    <tr>\n",
       "      <th>2</th>\n",
       "      <td>2018-06-02</td>\n",
       "      <td>57940</td>\n",
       "      <td>5</td>\n",
       "    </tr>\n",
       "    <tr>\n",
       "      <th>4</th>\n",
       "      <td>2018-06-03</td>\n",
       "      <td>44365</td>\n",
       "      <td>6</td>\n",
       "    </tr>\n",
       "    <tr>\n",
       "      <th>6</th>\n",
       "      <td>2018-06-04</td>\n",
       "      <td>37617</td>\n",
       "      <td>0</td>\n",
       "    </tr>\n",
       "    <tr>\n",
       "      <th>8</th>\n",
       "      <td>2018-06-05</td>\n",
       "      <td>32438</td>\n",
       "      <td>1</td>\n",
       "    </tr>\n",
       "  </tbody>\n",
       "</table>\n",
       "</div>"
      ],
      "text/plain": [
       "   USAGE_DATE  attendance  day_of_week\n",
       "0  2018-06-01       46804            4\n",
       "2  2018-06-02       57940            5\n",
       "4  2018-06-03       44365            6\n",
       "6  2018-06-04       37617            0\n",
       "8  2018-06-05       32438            1"
      ]
     },
     "execution_count": 15,
     "metadata": {},
     "output_type": "execute_result"
    }
   ],
   "source": [
    "df_attendance = pd.read_csv(data_path + \"attendance.csv\")\n",
    "df_attendance = df_attendance[[\"USAGE_DATE\", \"attendance\"]][(df_attendance[\"FACILITY_NAME\"] == \"PortAventura World\")]\n",
    "df_attendance[\"day_of_week\"] = pd.to_datetime(df_attendance[\"USAGE_DATE\"]).dt.dayofweek\n",
    "df_attendance.head()"
   ]
  },
  {
   "cell_type": "code",
   "execution_count": 18,
   "metadata": {},
   "outputs": [
    {
     "name": "stdout",
     "output_type": "stream",
     "text": [
      "Before dropping negative attendance values, there are 1145 rows\n",
      "After negative attendance values, there are 1145 rows\n"
     ]
    }
   ],
   "source": [
    "# Drop negative attendance values\n",
    "print(f\"Before dropping negative attendance values, there are {df_attendance.shape[0]} rows\")\n",
    "df_attendance.drop(df_attendance[df_attendance[\"attendance\"] < 0].index, inplace=True)\n",
    "print(f\"After negative attendance values, there are {df_attendance.shape[0]} rows\")"
   ]
  },
  {
   "cell_type": "code",
   "execution_count": 21,
   "metadata": {},
   "outputs": [
    {
     "data": {
      "image/png": "[encoded data removed]",
      "text/plain": [
       "<Figure size 640x480 with 1 Axes>"
      ]
     },
     "metadata": {},
     "output_type": "display_data"
    }
   ],
   "source": [
    "# Group by day of week to then plot the average attendance per day of week\n",
    "df_attendance.groupby(\"day_of_week\")[\"attendance\"].mean().plot(kind=\"bar\")\n",
    "plt.title(\"Average attendance per day of week\")\n",
    "plt.ylabel(\"Average attendance\")\n",
    "plt.xlabel(\"Day of week\")\n",
    "plt.xticks(ticks=np.arange(7), labels=[\"Monday\", \"Tuesday\", \"Wednesday\", \"Thursday\", \"Friday\", \"Saturday\", \"Sunday\"], rotation=45)\n",
    "plt.show()"
   ]
  },
  {
   "cell_type": "markdown",
   "metadata": {},
   "source": [
    "## Waiting times"
   ]
  },
  {
   "cell_type": "code",
   "execution_count": 23,
   "metadata": {},
   "outputs": [
    {
     "name": "stderr",
     "output_type": "stream",
     "text": [
      "/var/folders/k7/yjlj1gk15bj1gjrxppqlsy9r0000gn/T/ipykernel_1571/4181415843.py:1: DtypeWarning: Columns (14,16,17,18) have mixed types. Specify dtype option on import or set low_memory=False.\n",
      "  df = pd.read_csv(data_path + \"portaventura_world_data.csv\")\n"
     ]
    }
   ],
   "source": [
    "df = pd.read_csv(data_path + \"portaventura_world_data.csv\")"
   ]
  },
  {
   "cell_type": "code",
   "execution_count": 24,
   "metadata": {},
   "outputs": [
    {
     "data": {
      "text/html": [
       "<div>\n",
       "<style scoped>\n",
       "    .dataframe tbody tr th:only-of-type {\n",
       "        vertical-align: middle;\n",
       "    }\n",
       "\n",
       "    .dataframe tbody tr th {\n",
       "        vertical-align: top;\n",
       "    }\n",
       "\n",
       "    .dataframe thead th {\n",
       "        text-align: right;\n",
       "    }\n",
       "</style>\n",
       "<table border=\"1\" class=\"dataframe\">\n",
       "  <thead>\n",
       "    <tr style=\"text-align: right;\">\n",
       "      <th></th>\n",
       "      <th>DATE</th>\n",
       "      <th>DEB_TIME</th>\n",
       "      <th>DEB_TIME_HOUR</th>\n",
       "      <th>FIN_TIME</th>\n",
       "      <th>ENTITY_DESCRIPTION_SHORT</th>\n",
       "      <th>WAIT_TIME_MAX</th>\n",
       "      <th>NB_UNITS</th>\n",
       "      <th>GUEST_CARRIED</th>\n",
       "      <th>CAPACITY</th>\n",
       "      <th>ADJUST_CAPACITY</th>\n",
       "      <th>...</th>\n",
       "      <th>NB_MAX_UNIT</th>\n",
       "      <th>REF_CLOSING_DESCRIPTION</th>\n",
       "      <th>PARK_ATTENDANCE</th>\n",
       "      <th>NIGHT_SHOW</th>\n",
       "      <th>PARADE_1</th>\n",
       "      <th>PARADE_2</th>\n",
       "      <th>temp</th>\n",
       "      <th>humidity</th>\n",
       "      <th>wind_speed</th>\n",
       "      <th>is_holiday</th>\n",
       "    </tr>\n",
       "  </thead>\n",
       "  <tbody>\n",
       "    <tr>\n",
       "      <th>0</th>\n",
       "      <td>2018-01-01</td>\n",
       "      <td>2018-01-01 09:00:00</td>\n",
       "      <td>9</td>\n",
       "      <td>2018-01-01 09:15:00.000</td>\n",
       "      <td>Bumper Cars</td>\n",
       "      <td>5</td>\n",
       "      <td>18.0</td>\n",
       "      <td>108.0000</td>\n",
       "      <td>254.749</td>\n",
       "      <td>254.75</td>\n",
       "      <td>...</td>\n",
       "      <td>18.0</td>\n",
       "      <td>NaN</td>\n",
       "      <td>NaN</td>\n",
       "      <td>NaN</td>\n",
       "      <td>NaN</td>\n",
       "      <td>NaN</td>\n",
       "      <td>6.76</td>\n",
       "      <td>83.0</td>\n",
       "      <td>7.48</td>\n",
       "      <td>True</td>\n",
       "    </tr>\n",
       "    <tr>\n",
       "      <th>1</th>\n",
       "      <td>2018-01-01</td>\n",
       "      <td>2018-01-01 09:15:00</td>\n",
       "      <td>9</td>\n",
       "      <td>2018-01-01 09:30:00.000</td>\n",
       "      <td>Bumper Cars</td>\n",
       "      <td>5</td>\n",
       "      <td>18.0</td>\n",
       "      <td>88.9999</td>\n",
       "      <td>254.749</td>\n",
       "      <td>254.75</td>\n",
       "      <td>...</td>\n",
       "      <td>18.0</td>\n",
       "      <td>NaN</td>\n",
       "      <td>NaN</td>\n",
       "      <td>NaN</td>\n",
       "      <td>NaN</td>\n",
       "      <td>NaN</td>\n",
       "      <td>NaN</td>\n",
       "      <td>NaN</td>\n",
       "      <td>NaN</td>\n",
       "      <td>True</td>\n",
       "    </tr>\n",
       "    <tr>\n",
       "      <th>2</th>\n",
       "      <td>2018-01-01</td>\n",
       "      <td>2018-01-01 09:30:00</td>\n",
       "      <td>9</td>\n",
       "      <td>2018-01-01 09:45:00.000</td>\n",
       "      <td>Bumper Cars</td>\n",
       "      <td>5</td>\n",
       "      <td>18.0</td>\n",
       "      <td>93.0001</td>\n",
       "      <td>254.749</td>\n",
       "      <td>254.75</td>\n",
       "      <td>...</td>\n",
       "      <td>18.0</td>\n",
       "      <td>NaN</td>\n",
       "      <td>NaN</td>\n",
       "      <td>NaN</td>\n",
       "      <td>NaN</td>\n",
       "      <td>NaN</td>\n",
       "      <td>NaN</td>\n",
       "      <td>NaN</td>\n",
       "      <td>NaN</td>\n",
       "      <td>True</td>\n",
       "    </tr>\n",
       "    <tr>\n",
       "      <th>3</th>\n",
       "      <td>2018-01-01</td>\n",
       "      <td>2018-01-01 09:45:00</td>\n",
       "      <td>9</td>\n",
       "      <td>2018-01-01 10:00:00.000</td>\n",
       "      <td>Bumper Cars</td>\n",
       "      <td>5</td>\n",
       "      <td>18.0</td>\n",
       "      <td>55.0000</td>\n",
       "      <td>254.749</td>\n",
       "      <td>254.75</td>\n",
       "      <td>...</td>\n",
       "      <td>18.0</td>\n",
       "      <td>NaN</td>\n",
       "      <td>NaN</td>\n",
       "      <td>NaN</td>\n",
       "      <td>NaN</td>\n",
       "      <td>NaN</td>\n",
       "      <td>NaN</td>\n",
       "      <td>NaN</td>\n",
       "      <td>NaN</td>\n",
       "      <td>True</td>\n",
       "    </tr>\n",
       "    <tr>\n",
       "      <th>4</th>\n",
       "      <td>2018-01-01</td>\n",
       "      <td>2018-01-01 10:00:00</td>\n",
       "      <td>10</td>\n",
       "      <td>2018-01-01 10:15:00.000</td>\n",
       "      <td>Bumper Cars</td>\n",
       "      <td>5</td>\n",
       "      <td>18.0</td>\n",
       "      <td>98.0001</td>\n",
       "      <td>254.749</td>\n",
       "      <td>254.75</td>\n",
       "      <td>...</td>\n",
       "      <td>18.0</td>\n",
       "      <td>NaN</td>\n",
       "      <td>NaN</td>\n",
       "      <td>NaN</td>\n",
       "      <td>NaN</td>\n",
       "      <td>NaN</td>\n",
       "      <td>6.77</td>\n",
       "      <td>87.0</td>\n",
       "      <td>7.33</td>\n",
       "      <td>True</td>\n",
       "    </tr>\n",
       "  </tbody>\n",
       "</table>\n",
       "<p>5 rows × 23 columns</p>\n",
       "</div>"
      ],
      "text/plain": [
       "         DATE             DEB_TIME  DEB_TIME_HOUR                 FIN_TIME  \\\n",
       "0  2018-01-01  2018-01-01 09:00:00              9  2018-01-01 09:15:00.000   \n",
       "1  2018-01-01  2018-01-01 09:15:00              9  2018-01-01 09:30:00.000   \n",
       "2  2018-01-01  2018-01-01 09:30:00              9  2018-01-01 09:45:00.000   \n",
       "3  2018-01-01  2018-01-01 09:45:00              9  2018-01-01 10:00:00.000   \n",
       "4  2018-01-01  2018-01-01 10:00:00             10  2018-01-01 10:15:00.000   \n",
       "\n",
       "  ENTITY_DESCRIPTION_SHORT  WAIT_TIME_MAX  NB_UNITS  GUEST_CARRIED  CAPACITY  \\\n",
       "0              Bumper Cars              5      18.0       108.0000   254.749   \n",
       "1              Bumper Cars              5      18.0        88.9999   254.749   \n",
       "2              Bumper Cars              5      18.0        93.0001   254.749   \n",
       "3              Bumper Cars              5      18.0        55.0000   254.749   \n",
       "4              Bumper Cars              5      18.0        98.0001   254.749   \n",
       "\n",
       "   ADJUST_CAPACITY  ...  NB_MAX_UNIT  REF_CLOSING_DESCRIPTION  \\\n",
       "0           254.75  ...         18.0                      NaN   \n",
       "1           254.75  ...         18.0                      NaN   \n",
       "2           254.75  ...         18.0                      NaN   \n",
       "3           254.75  ...         18.0                      NaN   \n",
       "4           254.75  ...         18.0                      NaN   \n",
       "\n",
       "   PARK_ATTENDANCE  NIGHT_SHOW PARADE_1  PARADE_2  temp humidity wind_speed  \\\n",
       "0              NaN         NaN      NaN       NaN  6.76     83.0       7.48   \n",
       "1              NaN         NaN      NaN       NaN   NaN      NaN        NaN   \n",
       "2              NaN         NaN      NaN       NaN   NaN      NaN        NaN   \n",
       "3              NaN         NaN      NaN       NaN   NaN      NaN        NaN   \n",
       "4              NaN         NaN      NaN       NaN  6.77     87.0       7.33   \n",
       "\n",
       "   is_holiday  \n",
       "0        True  \n",
       "1        True  \n",
       "2        True  \n",
       "3        True  \n",
       "4        True  \n",
       "\n",
       "[5 rows x 23 columns]"
      ]
     },
     "execution_count": 24,
     "metadata": {},
     "output_type": "execute_result"
    }
   ],
   "source": [
    "df.head()"
   ]
  },
  {
   "cell_type": "code",
   "execution_count": 26,
   "metadata": {},
   "outputs": [
    {
     "name": "stdout",
     "output_type": "stream",
     "text": [
      "Before dropping closed attractions, there are 2369821 rows\n",
      "After dropping closed attractions, there are 2215559 rows\n"
     ]
    }
   ],
   "source": [
    "# Drop rows with a closed attraction\n",
    "print(f\"Before dropping closed attractions, there are {df.shape[0]} rows\")\n",
    "df.drop(df[~df[\"REF_CLOSING_DESCRIPTION\"].isna()].index, inplace=True)\n",
    "print(f\"After dropping closed attractions, there are {df.shape[0]} rows\")"
   ]
  },
  {
   "cell_type": "code",
   "execution_count": 27,
   "metadata": {},
   "outputs": [
    {
     "name": "stdout",
     "output_type": "stream",
     "text": [
      "Before dropping attractions when they are closed, there are 2215559 rows\n",
      "After dropping attractions when they are closed, there are 1289212 rows\n"
     ]
    }
   ],
   "source": [
    "# Let's only consider attractions when they are open\n",
    "print(f\"Before dropping attractions when they are closed, there are {df.shape[0]} rows\")\n",
    "df.drop(df[df[\"OPEN_TIME\"] == 0].index, inplace=True)\n",
    "print(f\"After dropping attractions when they are closed, there are {df.shape[0]} rows\")"
   ]
  },
  {
   "cell_type": "code",
   "execution_count": 29,
   "metadata": {},
   "outputs": [
    {
     "data": {
      "image/png": "[encoded data removed]",
      "text/plain": [
       "<Figure size 640x480 with 1 Axes>"
      ]
     },
     "metadata": {},
     "output_type": "display_data"
    }
   ],
   "source": [
    "# Now let's group by day of week and plot the average wait time per day of week\n",
    "df[\"day_of_week\"] = pd.to_datetime(df[\"DATE\"]).dt.dayofweek\n",
    "df.groupby(\"day_of_week\")[\"WAIT_TIME_MAX\"].mean().plot(kind=\"bar\")\n",
    "plt.title(\"Average wait time per day of week on each attractions\")\n",
    "plt.ylabel(\"Average wait time\")\n",
    "plt.xlabel(\"Day of week\")\n",
    "plt.xticks(ticks=np.arange(7), labels=[\"Monday\", \"Tuesday\", \"Wednesday\", \"Thursday\", \"Friday\", \"Saturday\", \"Sunday\"], rotation=45)\n",
    "plt.show()"
   ]
  }
 ],
 "metadata": {
  "kernelspec": {
   "display_name": "eleven_env",
   "language": "python",
   "name": "python3"
  },
  "language_info": {
   "codemirror_mode": {
    "name": "ipython",
    "version": 3
   },
   "file_extension": ".py",
   "mimetype": "text/x-python",
   "name": "python",
   "nbconvert_exporter": "python",
   "pygments_lexer": "ipython3",
   "version": "3.12.5"
  },
  "orig_nbformat": 4
 },
 "nbformat": 4,
 "nbformat_minor": 2
}
